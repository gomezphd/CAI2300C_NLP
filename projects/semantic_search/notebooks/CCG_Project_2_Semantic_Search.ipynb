{
  "nbformat": 4,
  "nbformat_minor": 0,
  "metadata": {
    "colab": {
      "provenance": [],
      "machine_shape": "hm",
      "gpuType": "T4",
      "authorship_tag": "ABX9TyN63On0sWXhFpl4ZHJtl68W",
      "include_colab_link": true
    },
    "kernelspec": {
      "name": "python3",
      "display_name": "Python 3"
    },
    "language_info": {
      "name": "python"
    },
    "accelerator": "GPU"
  },
  "cells": [
    {
      "cell_type": "markdown",
      "metadata": {
        "id": "view-in-github",
        "colab_type": "text"
      },
      "source": [
        "<a href=\"https://colab.research.google.com/github/gomezphd/CAI2300C_NLP/blob/main/projects/semantic_search/notebooks/CCG_Project_2_Semantic_Search.ipynb\" target=\"_parent\"><img src=\"https://colab.research.google.com/assets/colab-badge.svg\" alt=\"Open In Colab\"/></a>"
      ]
    },
    {
      "cell_type": "markdown",
      "source": [
        "# **Project 2:** Semantic Search Customer Complaints/Legal Documents\n",
        "#### Carlos C. Gomez  \n",
        "#### Instructor: Dr. Lee  \n",
        "#### Spring 2025  \n",
        "---\n",
        "---"
      ],
      "metadata": {
        "id": "yHMARohjZ350"
      }
    },
    {
      "cell_type": "markdown",
      "source": [
        "\n",
        "## 🔎 **Semantic Search for Customer Complaints & Legal Documents**\n",
        "\n",
        "This project builds a **semantic search engine** using OpenAI embeddings. It allows users to:\n",
        "1. **Find similar customer complaints** to improve response handling.\n",
        "2. **Search legal cases** based on topic filtering.\n",
        "\n",
        "### 🛠 **How It Works**\n",
        "✅ **Converts text** into **semantic embeddings** using OpenAI.  \n",
        "✅ **Finds similar results** via **cosine similarity**.  \n",
        "✅ **Allows metadata filtering** for legal documents.  \n",
        "✅ **Provides an interactive Gradio interface** for seamless search.\n",
        "\n",
        "This approach is inspired by **Dr. Lee’s article** on **semantic search for customer complaints**, which explores OpenAI embeddings for text similarity. Read more [here](https://drlee.io/building-a-semantic-search-engine-for-customer-complaints-with-openai-a61e9f4f2ba7).  \n",
        "\n",
        "---"
      ],
      "metadata": {
        "id": "LETRUXxp3XS2"
      }
    },
    {
      "cell_type": "markdown",
      "source": [
        "##📌 Step 1: Installing Dependencies\n",
        "Now, install the required libraries."
      ],
      "metadata": {
        "id": "eWvkRENNaCum"
      }
    },
    {
      "cell_type": "code",
      "execution_count": 1,
      "metadata": {
        "colab": {
          "base_uri": "https://localhost:8080/"
        },
        "id": "HOYmywOlZ2qn",
        "outputId": "43bcb678-23bc-469c-fa6e-369346a745c8"
      },
      "outputs": [
        {
          "output_type": "stream",
          "name": "stdout",
          "text": [
            "\u001b[2K   \u001b[90m━━━━━━━━━━━━━━━━━━━━━━━━━━━━━━━━━━━━━━━━\u001b[0m \u001b[32m57.6/57.6 MB\u001b[0m \u001b[31m21.6 MB/s\u001b[0m eta \u001b[36m0:00:00\u001b[0m\n",
            "\u001b[2K   \u001b[90m━━━━━━━━━━━━━━━━━━━━━━━━━━━━━━━━━━━━━━━━\u001b[0m \u001b[32m321.8/321.8 kB\u001b[0m \u001b[31m20.9 MB/s\u001b[0m eta \u001b[36m0:00:00\u001b[0m\n",
            "\u001b[2K   \u001b[90m━━━━━━━━━━━━━━━━━━━━━━━━━━━━━━━━━━━━━━━━\u001b[0m \u001b[32m94.8/94.8 kB\u001b[0m \u001b[31m8.5 MB/s\u001b[0m eta \u001b[36m0:00:00\u001b[0m\n",
            "\u001b[2K   \u001b[90m━━━━━━━━━━━━━━━━━━━━━━━━━━━━━━━━━━━━━━━━\u001b[0m \u001b[32m12.4/12.4 MB\u001b[0m \u001b[31m87.5 MB/s\u001b[0m eta \u001b[36m0:00:00\u001b[0m\n",
            "\u001b[2K   \u001b[90m━━━━━━━━━━━━━━━━━━━━━━━━━━━━━━━━━━━━━━━━\u001b[0m \u001b[32m71.5/71.5 kB\u001b[0m \u001b[31m6.2 MB/s\u001b[0m eta \u001b[36m0:00:00\u001b[0m\n",
            "\u001b[2K   \u001b[90m━━━━━━━━━━━━━━━━━━━━━━━━━━━━━━━━━━━━━━━━\u001b[0m \u001b[32m62.3/62.3 kB\u001b[0m \u001b[31m5.5 MB/s\u001b[0m eta \u001b[36m0:00:00\u001b[0m\n",
            "\u001b[?25h"
          ]
        }
      ],
      "source": [
        "# Install Required Libraries\n",
        "!pip install openai gradio scipy numpy -q\n"
      ]
    },
    {
      "cell_type": "markdown",
      "source": [
        "## 📌 Step 2: Import Libraries\n",
        "In the next cell, import the necessary libraries."
      ],
      "metadata": {
        "id": "UuvJtEd4aKpP"
      }
    },
    {
      "cell_type": "code",
      "source": [
        "# Import Libraries\n",
        "import os\n",
        "import numpy as np\n",
        "import gradio as gr\n",
        "from openai import OpenAI\n",
        "from scipy.spatial import distance\n"
      ],
      "metadata": {
        "id": "PacuDM-MaKd3"
      },
      "execution_count": 2,
      "outputs": []
    },
    {
      "cell_type": "markdown",
      "source": [
        "## 📌 Step 3: Set Up OpenAI API Client\n",
        "Now, initialize the OpenAI API client."
      ],
      "metadata": {
        "id": "uBTbaN0taKPX"
      }
    },
    {
      "cell_type": "code",
      "source": [
        "# Initialize OpenAI client with your API key\n",
        "client = OpenAI(api_key=\"your_key\")  # Replace \"your-api-key\" with your actual OpenAI API key\n"
      ],
      "metadata": {
        "id": "0kn6pPa1Ed6X",
        "outputId": "536f1347-5dad-4583-82a9-73611373446e",
        "colab": {
          "base_uri": "https://localhost:8080/",
          "height": 211
        }
      },
      "execution_count": 3,
      "outputs": [
        {
          "output_type": "error",
          "ename": "ValueError",
          "evalue": "⚠️ OpenAI API key is missing! Set it in GitHub Secrets.",
          "traceback": [
            "\u001b[0;31m---------------------------------------------------------------------------\u001b[0m",
            "\u001b[0;31mValueError\u001b[0m                                Traceback (most recent call last)",
            "\u001b[0;32m<ipython-input-3-de231d14d4df>\u001b[0m in \u001b[0;36m<cell line: 0>\u001b[0;34m()\u001b[0m\n\u001b[1;32m      3\u001b[0m \u001b[0;34m\u001b[0m\u001b[0m\n\u001b[1;32m      4\u001b[0m \u001b[0;32mif\u001b[0m \u001b[0mOPENAI_API_KEY\u001b[0m \u001b[0;32mis\u001b[0m \u001b[0;32mNone\u001b[0m\u001b[0;34m:\u001b[0m\u001b[0;34m\u001b[0m\u001b[0;34m\u001b[0m\u001b[0m\n\u001b[0;32m----> 5\u001b[0;31m     \u001b[0;32mraise\u001b[0m \u001b[0mValueError\u001b[0m\u001b[0;34m(\u001b[0m\u001b[0;34m\"⚠️ OpenAI API key is missing! Set it in GitHub Secrets.\"\u001b[0m\u001b[0;34m)\u001b[0m\u001b[0;34m\u001b[0m\u001b[0;34m\u001b[0m\u001b[0m\n\u001b[0m\u001b[1;32m      6\u001b[0m \u001b[0;34m\u001b[0m\u001b[0m\n\u001b[1;32m      7\u001b[0m \u001b[0;31m# Initialize OpenAI Client\u001b[0m\u001b[0;34m\u001b[0m\u001b[0;34m\u001b[0m\u001b[0m\n",
            "\u001b[0;31mValueError\u001b[0m: ⚠️ OpenAI API key is missing! Set it in GitHub Secrets."
          ]
        }
      ]
    },
    {
      "cell_type": "markdown",
      "source": [
        "## 📌 Step 4: Define the Embedding Function"
      ],
      "metadata": {
        "id": "1QCEG11AaJ0P"
      }
    },
    {
      "cell_type": "code",
      "source": [
        "# Define the Embedding Function\n",
        "def create_embeddings(texts, model=\"text-embedding-3-small\"):\n",
        "    \"\"\"\n",
        "    Create embeddings for a list of texts using OpenAI's API.\n",
        "\n",
        "    Args:\n",
        "        texts (list): List of text strings to embed.\n",
        "        model (str): OpenAI embedding model to use.\n",
        "\n",
        "    Returns:\n",
        "        list: List of embeddings.\n",
        "    \"\"\"\n",
        "    return [client.embeddings.create(input=text, model=model).data[0].embedding for text in texts]\n",
        "\n"
      ],
      "metadata": {
        "id": "i3zIBaw5aJqB"
      },
      "execution_count": null,
      "outputs": []
    },
    {
      "cell_type": "markdown",
      "source": [
        "##📌 Step 5: Prepare the Customer Complaints Dataset"
      ],
      "metadata": {
        "id": "h0HWguNJaJef"
      }
    },
    {
      "cell_type": "code",
      "source": [
        "# Sample customer complaints dataset\n",
        "customer_complaints = [\n",
        "    \"The delivery of my order was delayed by 3 days, and I had to constantly check the tracking system for updates. This caused inconvenience as it was a gift that I needed urgently.\",\n",
        "    \"I received a damaged product in the package, and the box itself was torn. It seems there was no care taken during the shipping process.\",\n",
        "    \"The refund process is incredibly slow. I submitted my request weeks ago and still haven't received any confirmation or updates on the status of my refund.\",\n",
        "    \"The customer service representative I spoke to was extremely rude and unhelpful, refusing to listen to my concerns or provide a proper resolution.\",\n",
        "    \"I never received the order I placed two weeks ago, even though the system marked it as delivered. I feel like my money has been wasted.\",\n",
        "    \"The packaging was torn and damaged when my order arrived, making it look like the contents could have been tampered with or mishandled during shipping.\",\n",
        "    \"The product I received doesn’t match the description on the website at all. It feels misleading, and I now have to go through the hassle of returning it.\",\n",
        "    \"The website is confusing and difficult to navigate, making it hard to find what I was looking for. The search feature also doesn’t provide accurate results.\",\n",
        "    \"I was incorrectly charged an extra amount for my order, and I can't figure out why. The customer support hasn't resolved this issue yet.\",\n",
        "    \"The warranty claim process is unclear, and I couldn’t find any detailed instructions on the website. I’ve been stuck without a resolution for weeks.\",\n",
        "    \"The size I ordered doesn’t fit, even though I followed the size chart on your website. It seems the chart is inaccurate and misleading.\",\n",
        "    \"I tried canceling my order before it was shipped, but the system wouldn't let me. Now, I’m stuck with something I don’t need.\",\n",
        "    \"The product quality is far below what I expected based on the reviews and description. It feels like I’ve been scammed.\",\n",
        "    \"The live chat feature on the website never connects me to an agent. I’ve tried multiple times, and the automated replies aren’t helpful at all.\",\n",
        "    \"I’ve been charged for a subscription that I never signed up for. It’s unfair, and I haven’t received any explanation or solution yet.\",\n",
        "    \"The instructions for assembling the product were incomplete and confusing. I had to search online to figure out how to put it together.\",\n",
        "    \"My account was locked for no reason, and I wasn’t able to make a purchase. Customer support didn’t resolve this issue quickly.\",\n",
        "    \"The item was marked as 'in stock,' but after I placed the order, I was informed that it’s on backorder and won’t arrive for weeks.\",\n",
        "    \"I received the wrong item in my order, and now I have to go through the hassle of returning it and waiting for a replacement.\",\n",
        "    \"The checkout process on the website is frustratingly slow, and my payment failed multiple times before finally going through.\",\n",
        "    \"My promotional discount code didn’t work at checkout, and I ended up paying the full price. I contacted support but haven’t heard back yet.\",\n",
        "    \"The delivery person left my package outside in the rain, ruining the contents inside. There should be better handling of deliveries.\",\n",
        "    \"I had to pay additional customs fees that weren’t disclosed when I placed the order. This hidden charge is unacceptable.\",\n",
        "    \"The automated phone system doesn’t connect me to a real person, and I’ve been stuck waiting for a resolution for over a week.\",\n",
        "    \"The color of the product I received is completely different from what was shown on the website. It’s not what I ordered at all.\",\n",
        "    \"The mobile app keeps crashing whenever I try to add items to my cart. It’s been impossible to complete my purchase.\",\n",
        "    \"The tracking information for my shipment hasn’t been updated in days, and I have no idea where my package is.\",\n",
        "    \"The item I purchased doesn’t work as advertised. It’s defective and should have been properly tested before being sold.\",\n",
        "    \"I paid for expedited shipping, but my order still arrived late. I feel like I wasted money on a service that wasn’t delivered.\",\n",
        "    \"I’ve been trying to return a product for over two weeks, but the return label hasn’t been sent to me yet. This delay is unacceptable.\"\n",
        "]"
      ],
      "metadata": {
        "id": "Dk1C1Z3eaJUi"
      },
      "execution_count": null,
      "outputs": []
    },
    {
      "cell_type": "markdown",
      "source": [
        "## 📌 Step 6: Prepare the Legal Case Summaries Dataset"
      ],
      "metadata": {
        "id": "uZCZzwIRaJIP"
      }
    },
    {
      "cell_type": "code",
      "source": [
        "# Sample legal case summaries dataset\n",
        "legal_summaries = [\n",
        "    {\n",
        "        \"summary\": \"The Supreme Court ruled in favor of the plaintiff regarding environmental regulations, emphasizing the need for stricter enforcement to protect endangered species in industrial zones.\",\n",
        "        \"topic\": \"Environmental Law\",\n",
        "        \"keywords\": [\"Supreme Court\", \"plaintiff\", \"environmental regulations\", \"endangered species\", \"industrial zones\"]\n",
        "    },\n",
        "    {\n",
        "        \"summary\": \"A new policy on data privacy was enacted to protect user information, requiring companies to implement stricter encryption standards for all stored data.\",\n",
        "        \"topic\": \"Privacy Law\",\n",
        "        \"keywords\": [\"data privacy\", \"policy\", \"user information\", \"encryption standards\", \"data storage\"]\n",
        "    },\n",
        "    {\n",
        "        \"summary\": \"The landmark case addressed intellectual property rights for AI-generated content, establishing that such creations could not yet qualify for traditional copyright protections.\",\n",
        "        \"topic\": \"Intellectual Property\",\n",
        "        \"keywords\": [\"intellectual property\", \"AI\", \"landmark case\", \"copyright\", \"AI-generated content\"]\n",
        "    },\n",
        "    {\n",
        "        \"summary\": \"Antitrust concerns were raised in a merger between two major tech companies, with regulators questioning the potential for monopolistic practices in the digital advertising sector.\",\n",
        "        \"topic\": \"Antitrust Law\",\n",
        "        \"keywords\": [\"antitrust\", \"merger\", \"tech companies\", \"monopoly\", \"digital advertising\"]\n",
        "    },\n",
        "    {\n",
        "        \"summary\": \"The court dismissed charges of negligence against the pharmaceutical company, citing insufficient evidence to prove a breach of safety protocols during the manufacturing process.\",\n",
        "        \"topic\": \"Healthcare Law\",\n",
        "        \"keywords\": [\"negligence\", \"pharmaceutical company\", \"court dismissal\", \"safety protocols\", \"manufacturing process\"]\n",
        "    },\n",
        "    {\n",
        "        \"summary\": \"The court ruled that a major energy company was liable for damages caused by an oil spill that affected coastal communities and wildlife habitats.\",\n",
        "        \"topic\": \"Environmental Law\",\n",
        "        \"keywords\": [\"oil spill\", \"energy company\", \"liability\", \"coastal communities\", \"wildlife habitats\"]\n",
        "    },\n",
        "    {\n",
        "        \"summary\": \"A federal ruling mandated that companies must disclose all data breaches affecting more than 10,000 users within 48 hours of detection.\",\n",
        "        \"topic\": \"Privacy Law\",\n",
        "        \"keywords\": [\"data breaches\", \"federal ruling\", \"disclosure\", \"user protection\", \"48-hour rule\"]\n",
        "    },\n",
        "    {\n",
        "        \"summary\": \"The court upheld the trademark infringement claim, ruling that the defendant's branding created consumer confusion with an established company's product line.\",\n",
        "        \"topic\": \"Intellectual Property\",\n",
        "        \"keywords\": [\"trademark infringement\", \"branding\", \"consumer confusion\", \"product line\", \"court ruling\"]\n",
        "    },\n",
        "    {\n",
        "        \"summary\": \"An antitrust lawsuit was filed against a leading e-commerce platform for allegedly using its market dominance to suppress smaller competitors.\",\n",
        "        \"topic\": \"Antitrust Law\",\n",
        "        \"keywords\": [\"antitrust lawsuit\", \"e-commerce\", \"market dominance\", \"smaller competitors\", \"suppression\"]\n",
        "    },\n",
        "    {\n",
        "        \"summary\": \"A healthcare company was fined for failing to comply with federal health data privacy regulations, resulting in unauthorized access to patient records.\",\n",
        "        \"topic\": \"Healthcare Law\",\n",
        "        \"keywords\": [\"healthcare company\", \"fines\", \"data privacy\", \"patient records\", \"non-compliance\"]\n",
        "    },\n",
        "    {\n",
        "        \"summary\": \"Environmental advocates sued a chemical manufacturer over illegal waste disposal practices that contaminated local water supplies.\",\n",
        "        \"topic\": \"Environmental Law\",\n",
        "        \"keywords\": [\"illegal waste disposal\", \"chemical manufacturer\", \"water contamination\", \"lawsuit\", \"environmental advocates\"]\n",
        "    },\n",
        "    {\n",
        "        \"summary\": \"New legislation on biometric data collection requires businesses to obtain explicit consent before capturing or storing fingerprints or facial recognition data.\",\n",
        "        \"topic\": \"Privacy Law\",\n",
        "        \"keywords\": [\"biometric data\", \"explicit consent\", \"facial recognition\", \"fingerprints\", \"data collection\"]\n",
        "    },\n",
        "    {\n",
        "        \"summary\": \"The court ruled that a software developer retained ownership of the source code created during a freelance project, reinforcing independent contractor rights.\",\n",
        "        \"topic\": \"Intellectual Property\",\n",
        "        \"keywords\": [\"source code\", \"software developer\", \"freelance project\", \"ownership\", \"contractor rights\"]\n",
        "    },\n",
        "    {\n",
        "        \"summary\": \"Regulators imposed fines on a major telecom company for collusion in price-fixing agreements with its regional partners.\",\n",
        "        \"topic\": \"Antitrust Law\",\n",
        "        \"keywords\": [\"collusion\", \"price-fixing\", \"telecom company\", \"regional partners\", \"regulators\"]\n",
        "    },\n",
        "    {\n",
        "        \"summary\": \"The court held a healthcare provider liable for medical malpractice after failing to diagnose a patient’s life-threatening condition in a timely manner.\",\n",
        "        \"topic\": \"Healthcare Law\",\n",
        "        \"keywords\": [\"medical malpractice\", \"healthcare provider\", \"liability\", \"misdiagnosis\", \"timely care\"]\n",
        "    }\n",
        "]\n"
      ],
      "metadata": {
        "id": "xPxgB8CtaI-F"
      },
      "execution_count": null,
      "outputs": []
    },
    {
      "cell_type": "markdown",
      "source": [
        "## 📌 Step 7: Generate Embeddings for Both Cusomer Compalaints and Legal Summary Datasets"
      ],
      "metadata": {
        "id": "dECi2KWZaIzy"
      }
    },
    {
      "cell_type": "code",
      "source": [
        "# Generate embeddings for both datasets\n",
        "\n",
        "def generate_embeddings(data_list, is_dict=False):\n",
        "    \"\"\"\n",
        "    Generates embeddings for a list of items.\n",
        "\n",
        "    Args:\n",
        "        data_list (list): List of strings or dictionaries.\n",
        "        is_dict (bool): True if items are dictionaries, False if strings.\n",
        "\n",
        "    Returns:\n",
        "        list: List with added embeddings.\n",
        "    \"\"\"\n",
        "    if is_dict:\n",
        "        # For legal summaries (list of dictionaries)\n",
        "        texts = [item[\"summary\"] for item in data_list]\n",
        "        embeddings = create_embeddings(texts)\n",
        "\n",
        "        # Add embeddings to existing dictionaries\n",
        "        for item, embedding in zip(data_list, embeddings):\n",
        "            item[\"embedding\"] = embedding\n",
        "\n",
        "        return data_list\n",
        "    else:\n",
        "        # For customer complaints (list of strings)\n",
        "        embeddings = create_embeddings(data_list)\n",
        "\n",
        "        # Convert to list of dictionaries\n",
        "        return [{\"text\": text, \"embedding\": emb} for text, emb in zip(data_list, embeddings)]\n",
        "\n",
        "# Apply embedding generation\n",
        "processed_complaints = generate_embeddings(customer_complaints, is_dict=False)\n",
        "processed_legal = generate_embeddings(legal_summaries, is_dict=True)\n"
      ],
      "metadata": {
        "id": "G6-APxjFaIl2"
      },
      "execution_count": null,
      "outputs": []
    },
    {
      "cell_type": "markdown",
      "source": [
        "## 📌 Step 8: Define a Unified Search Function"
      ],
      "metadata": {
        "id": "W-4dukQbb3Sv"
      }
    },
    {
      "cell_type": "code",
      "source": [
        "# Define Unified Search Function\n",
        "\n",
        "def find_similar_entries(query, dataset, n=3, topic_filter=None):\n",
        "    \"\"\"\n",
        "    Find the n most similar entries in a dataset.\n",
        "\n",
        "    Args:\n",
        "        query (str): Search query.\n",
        "        dataset (list): Dataset of dictionaries with embeddings.\n",
        "        n (int): Number of similar results to return.\n",
        "        topic_filter (str, optional): Topic filter for legal cases.\n",
        "\n",
        "    Returns:\n",
        "        list: List of matching entries sorted by similarity.\n",
        "    \"\"\"\n",
        "    query_embedding = create_embeddings([query])[0]\n",
        "    results = []\n",
        "\n",
        "    for entry in dataset:\n",
        "        # Apply topic filter for legal cases\n",
        "        if topic_filter and topic_filter != \"All\":\n",
        "            if \"topic\" in entry and entry[\"topic\"] != topic_filter:\n",
        "                continue\n",
        "\n",
        "        # Compute similarity\n",
        "        similarity = 1 - distance.cosine(query_embedding, entry[\"embedding\"])\n",
        "        results.append((entry, similarity))\n",
        "\n",
        "    return sorted(results, key=lambda x: x[1], reverse=True)[:n]\n",
        "\n"
      ],
      "metadata": {
        "id": "V56snIi5b3gd"
      },
      "execution_count": null,
      "outputs": []
    },
    {
      "cell_type": "markdown",
      "source": [
        "## 📌 Step 9: Build the Unified Gradio Interface"
      ],
      "metadata": {
        "id": "JqaQKoYUb_tv"
      }
    },
    {
      "cell_type": "code",
      "source": [
        "# Develop the UI where users can toggle between Customer Complaints and Legal Cases.\n",
        "\n",
        "def unified_search(query, search_type, topic_filter=None):\n",
        "    \"\"\"\n",
        "    Unified search function for both types of content.\n",
        "\n",
        "    Args:\n",
        "        query (str): The user query.\n",
        "        search_type (str): Either \"Customer Complaints\" or \"Legal Cases\".\n",
        "        topic_filter (str, optional): Topic filter for legal cases.\n",
        "\n",
        "    Returns:\n",
        "        str: Formatted search results.\n",
        "    \"\"\"\n",
        "    dataset = processed_complaints if search_type == \"Customer Complaints\" else processed_legal\n",
        "    results = find_similar_entries(query, dataset, topic_filter=topic_filter)\n",
        "\n",
        "    if not results:\n",
        "        return \"No matching entries found.\"\n",
        "\n",
        "    output = f\"🔍 **Search Query:** {query}\\n\\n📂 **Results:**\\n\"\n",
        "    for i, (entry, similarity) in enumerate(results, 1):\n",
        "        output += f\"\\n{i}. **{entry.get('text', '') or entry.get('summary', '')}**\"\n",
        "        if \"topic\" in entry:\n",
        "            output += f\"\\n   📑 **Topic:** {entry['topic']}\"\n",
        "        output += f\"\\n   🎯 **Similarity Score:** {similarity:.2%}\\n\"\n",
        "\n",
        "    return output\n"
      ],
      "metadata": {
        "id": "8SbuRlerb3Gm"
      },
      "execution_count": null,
      "outputs": []
    },
    {
      "cell_type": "markdown",
      "source": [
        "# 📌 Step 11: Launch the Gradio Interface"
      ],
      "metadata": {
        "id": "dFDmugPNb23Z"
      }
    },
    {
      "cell_type": "code",
      "source": [
        "# Create and Launch Gradio Interface\n",
        "\n",
        "unified_interface = gr.Interface(\n",
        "    fn=unified_search,\n",
        "    inputs=[\n",
        "        gr.Textbox(label=\"Enter Your Query\"),\n",
        "        gr.Radio(\n",
        "            [\"Customer Complaints\", \"Legal Cases\"],\n",
        "            label=\"Select Search Type\",\n",
        "            value=\"Customer Complaints\"\n",
        "        ),\n",
        "        gr.Dropdown(\n",
        "            [\"All\", \"Antitrust Law\", \"Privacy Law\", \"Intellectual Property\",\n",
        "             \"Healthcare Law\", \"Environmental Law\"],\n",
        "            label=\"Filter by Legal Topic (Only for Legal Cases)\",\n",
        "            value=\"All\"\n",
        "        ),\n",
        "    ],\n",
        "    outputs=\"text\",\n",
        "    title=\"🔎 Unified Semantic Search\",\n",
        "    description=\"Search across both Customer Complaints and Legal Cases using OpenAI embeddings.\",\n",
        ")\n",
        "\n",
        "# Launch the interface\n",
        "unified_interface.launch()\n",
        "\n",
        "\n"
      ],
      "metadata": {
        "id": "9PFTE3eqb2qG"
      },
      "execution_count": null,
      "outputs": []
    },
    {
      "cell_type": "markdown",
      "source": [
        "\n",
        "## 🔗 **References & Inspirations**\n",
        "- Dr. Lee’s article on **semantic search for customer complaints**, exploring OpenAI embeddings for text similarity. [Read more](https://drlee.io/building-a-semantic-search-engine-for-customer-complaints-with-openai-a61e9f4f2ba7).  \n"
      ],
      "metadata": {
        "id": "kq_KFTBeb2WH"
      }
    }
  ]
}